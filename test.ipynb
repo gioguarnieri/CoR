{
 "cells": [
  {
   "cell_type": "code",
   "execution_count": 1,
   "metadata": {},
   "outputs": [],
   "source": [
    "import networkx as nx\n",
    "from scipy.linalg import expm, sinm, cosm\n",
    "import numpy as np\n",
    "from itertools import count\n",
    "import matplotlib.pyplot as plt\n",
    "import pandas as pd\n",
    "import plotly.express as px\n",
    "import osmnx as ox\n",
    "from sklearn.metrics import mean_squared_error\n",
    "import random\n",
    "import plotly.graph_objects as go\n",
    "import itertools as it\n",
    "from tqdm.notebook import tqdm\n",
    "from ipywidgets import FloatProgress"
   ]
  },
  {
   "cell_type": "markdown",
   "metadata": {},
   "source": [
    "## Functions"
   ]
  },
  {
   "cell_type": "code",
   "execution_count": 2,
   "metadata": {},
   "outputs": [],
   "source": [
    "def cosine_distance(G, comm = None): # returns a dataframe with a matrix\n",
    "    G_simple = nx.Graph(G)\n",
    "    if comm is None:\n",
    "        comm = add_comm_attr(G_simple)\n",
    "\n",
    "    comm = pd.DataFrame.from_dict(comm, orient= \"columns\")\n",
    "    nodelist = list(G_simple)\n",
    "    cd = pd.DataFrame.copy(comm)\n",
    "    for i in nodelist:\n",
    "        for j in nodelist:\n",
    "            cd[i][j] =2 - 2*comm[i][j]/np.sqrt(comm[i][i]*comm[j][j])\n",
    "    return cd\n",
    "\n",
    "def comm_angle(G, comm = None):\n",
    "    G_simple = nx.Graph(G)\n",
    "    if comm is None:\n",
    "        comm = add_comm_attr(G_simple)\n",
    "    comm = pd.DataFrame.from_dict(comm, orient= \"columns\")\n",
    "    nodelist = list(G_simple)\n",
    "    angle = pd.DataFrame.copy(comm)\n",
    "    for i in nodelist:\n",
    "        for j in nodelist:\n",
    "            angle[i][j] =np.degrees(np.arccos(comm[i][j]/np.sqrt(comm[i][i]*comm[j][j])))\n",
    "    return angle\n",
    "\n",
    "\n",
    "\n",
    "\n",
    "def comm_distance(G, comm = None): # returns a dataframe with a matrix\n",
    "    G_simple = nx.Graph(G)\n",
    "    if comm is None:\n",
    "        comm = add_comm_attr(G_simple)\n",
    "\n",
    "    comm = pd.DataFrame.from_dict(comm, orient= \"columns\")\n",
    "    nodelist = list(G_simple)\n",
    "    cd = pd.DataFrame.copy(comm)\n",
    "    for i in nodelist:\n",
    "        for j in nodelist:\n",
    "            cd[i][j] =np.sqrt(comm[i][i] + comm[j][j] - 2*comm[i][j])\n",
    "    return cd\n",
    "\n",
    "def comm_geo(G, cd = None, comm = None): # adds mean flow as attribute and returns a matrix\n",
    "  G_simple = nx.Graph(G)\n",
    "  if cd is None:\n",
    "    if comm is None:\n",
    "      comm = add_comm_attr(G_simple)\n",
    "    cd = comm_distance(G_simple, comm)\n",
    "  dfA = nx.to_pandas_adjacency(G)\n",
    "  X = (dfA*cd)\n",
    "  GX = nx.from_pandas_adjacency(X, nx.DiGraph)\n",
    "  dfSP = nx.to_pandas_adjacency(G)\n",
    "  j = dict()\n",
    "  for i in list(G.edges):\n",
    "    try:\n",
    "      j[i[0], i[1]] =  nx.dijkstra_path_length(GX, i[1], i[0], weight = \"weight\")\n",
    "    except:\n",
    "      j[i[0], i[1]] = 0\n",
    "\n",
    "  # teste = pd.DataFrame.from_dict(j, orient = \"index\")\n",
    "  # for i in teste.columns:\n",
    "  #   for j in teste.columns:\n",
    "  #     if np.isnan(teste[i][j]):\n",
    "  #       dfSP[i][j] = 0\n",
    "  #     else:\n",
    "  #       dfSP[i][j] = teste[i][j]\n",
    "  # nx.set_node_attributes(G, values=(dfSP.mean()).to_dict(), name=\"mean_flow\")\n",
    "  return j, cd\n",
    "\n",
    "\n",
    "def add_CCC(G, comm = None, cd = None): # returns a dict with a centrality\n",
    "    if cd is None:\n",
    "        cd = cosine_distance(G,comm)\n",
    "    d = (1/cd.sum())\n",
    "    nx.set_node_attributes(G, values=d.to_dict(), name=\"CCC\")\n",
    "    return d\n",
    "\n",
    "\n",
    "\n",
    "\n",
    "def add_comm_attr(G): # matrix and mean comm as attr\n",
    "    # G_simple = nx.Graph(G)\n",
    "    nodelist = list(G)\n",
    "    A = nx.to_numpy_array(G, nodelist)\n",
    "\n",
    "    Aexp2 = expm(A)\n",
    "    mapping = dict(zip(nodelist, range(len(nodelist))))\n",
    "\n",
    "    c = {}\n",
    "    d = {}\n",
    "    for u in G:\n",
    "        c[u] = {}\n",
    "        for v in G:\n",
    "            c[u][v] = float(Aexp2[mapping[u], mapping[v]])\n",
    "        d[u] = np.mean(list(c[u].values()))\n",
    "\n",
    "    nx.set_node_attributes(G, values=d, name=\"comm\")\n",
    "    return c\n",
    "\n",
    "def plotting(G, value, pos = None):\n",
    "    groups = nx.get_node_attributes(G,value).values()\n",
    "    mapping = dict(zip(count(),sorted(groups)))\n",
    "\n",
    "    nodes = G.nodes()\n",
    "    colors = [mapping[n] for n in nodes]\n",
    "\n",
    "    # drawing nodes and edges separately so we can capture collection for colobar\n",
    "    if not pos:\n",
    "        pos = nx.spring_layout(G)\n",
    "    plt.figure(figsize=(10,10))\n",
    "    ec = nx.draw_networkx_edges(G, pos, alpha=0.2)\n",
    "    nc = nx.draw_networkx_nodes(G, pos, nodelist=nodes, node_color=colors, node_size=100, cmap=plt.cm.jet)\n",
    "    plt.colorbar(nc)\n",
    "    plt.axis('off')\n",
    "    plt.show()\n",
    "\n",
    "\n",
    "def graph_folium_bg(G, n_attribute = None, e_attribute = None, cmap = \"hot\", poly = None):\n",
    "    nodes, edges = ox.graph_to_gdfs(G)\n",
    "    if poly is not None:\n",
    "        m = poly.explore()\n",
    "        m = edges.explore(m=m, column = e_attribute, cmap = cmap, color = \"black\")\n",
    "    else:\n",
    "        m = edges.explore(column = e_attribute, cmap = cmap, color = \"black\")\n",
    "    m = nodes.explore(m=m, column = n_attribute, cmap = cmap, color = \"black\")\n",
    "    return m\n",
    "\n",
    "def calculations(G):\n",
    "    flow, X = comm_geo(G)\n",
    "    nx.set_edge_attributes(G, flow, \"Flow of returnal\")\n",
    "    bet = nx.edge_betweenness_centrality(G, normalized = False)\n",
    "    nx.set_edge_attributes(G, bet, \"Betweenness\")\n",
    "\n",
    "    j = dict()\n",
    "    for i in list(G.edges):\n",
    "        try:\n",
    "            j[i[0], i[1]] =  nx.dijkstra_path_length(G, i[1], i[0])\n",
    "        except:\n",
    "            j[i[0], i[1]] = 0\n",
    "\n",
    "    df = pd.DataFrame(flow.values(), columns = [\"Cost\"], index = G.edges())\n",
    "    df[\"Betweenness\"] = bet.values()\n",
    "    df[\"SP_inverse\"] = j.values()\n",
    "    return df, X\n",
    "\n",
    "seed = 555\n",
    "nodes = 1000"
   ]
  },
  {
   "cell_type": "markdown",
   "metadata": {},
   "source": [
    "# ER Network"
   ]
  },
  {
   "cell_type": "code",
   "execution_count": 3,
   "metadata": {},
   "outputs": [],
   "source": [
    "i=0\n",
    "qty = 10\n",
    "graphs = []\n",
    "while i < qty:\n",
    "    _G = nx.fast_gnp_random_graph(50, 0.05, directed = True)\n",
    "    if nx.is_weakly_connected(_G):\n",
    "        graphs.append(_G)\n",
    "        i+=1"
   ]
  },
  {
   "cell_type": "code",
   "execution_count": null,
   "metadata": {},
   "outputs": [
    {
     "name": "stderr",
     "output_type": "stream",
     "text": [
      "C:\\Users\\gio-x\\AppData\\Local\\Packages\\PythonSoftwareFoundation.Python.3.11_qbz5n2kfra8p0\\LocalCache\\local-packages\\Python311\\site-packages\\osmnx\\graph.py:191: FutureWarning: The expected order of coordinates in `bbox` will change in the v2.0.0 release to `(left, bottom, right, top)`.\n",
      "  G = graph_from_bbox(\n"
     ]
    }
   ],
   "source": [
    "import osmnx as ox\n",
    "latlong = (-23.546, -46.634)\n",
    "dist = 700\n",
    "G = ox.graph_from_point(latlong, dist = dist, truncate_by_edge = True, network_type=\"drive\")\n",
    "\n"
   ]
  },
  {
   "cell_type": "code",
   "execution_count": 3,
   "metadata": {},
   "outputs": [],
   "source": [
    "edgelist = [[1, 2], \n",
    "[3, 4],\n",
    "[4, 8],\n",
    "[2, 3],\n",
    "[8, 12],\n",
    "[12, 16],\n",
    "[14, 13],\n",
    "[9, 5], \n",
    "[5, 1],\n",
    "[6, 10],\n",
    "[16, 15],\n",
    "[15, 14],\n",
    "# [10, 11],\n",
    "[11, 7],\n",
    "# [7, 6],\n",
    "[12, 11],\n",
    "[10, 9],\n",
    "[13, 9],\n",
    "[1, 5],\n",
    "[5, 6],\n",
    "[9, 10],\n",
    "# [14, 10],\n",
    "[10, 14],\n",
    "[15, 11],\n",
    "[8, 7],\n",
    "# [3, 7],\n",
    "[7, 3],\n",
    "[2, 6],\n",
    "]\n",
    "\n",
    "\n",
    "G = nx.from_edgelist(edgelist, create_using = nx.DiGraph)\n",
    "H = nx.DiGraph()\n",
    "H.add_nodes_from(sorted(G.nodes(data=True)))\n",
    "H.add_edges_from(G.edges(data=True))"
   ]
  },
  {
   "cell_type": "code",
   "execution_count": 4,
   "metadata": {},
   "outputs": [
    {
     "data": {
      "application/vnd.jupyter.widget-view+json": {
       "model_id": "e6538ce377294c3f9a49aa292199624a",
       "version_major": 2,
       "version_minor": 0
      },
      "text/plain": [
       "  0%|          | 0/10 [00:00<?, ?it/s]"
      ]
     },
     "metadata": {},
     "output_type": "display_data"
    },
    {
     "data": {
      "application/vnd.jupyter.widget-view+json": {
       "model_id": "7e3e452cb1a34660b2e0829736493f40",
       "version_major": 2,
       "version_minor": 0
      },
      "text/plain": [
       "0it [00:00, ?it/s]"
      ]
     },
     "metadata": {},
     "output_type": "display_data"
    },
    {
     "ename": "NameError",
     "evalue": "name 'best_edges' is not defined",
     "output_type": "error",
     "traceback": [
      "\u001b[1;31m---------------------------------------------------------------------------\u001b[0m",
      "\u001b[1;31mNameError\u001b[0m                                 Traceback (most recent call last)",
      "Cell \u001b[1;32mIn[4], line 20\u001b[0m\n\u001b[0;32m     18\u001b[0m             best_edges \u001b[38;5;241m=\u001b[39m i\n\u001b[0;32m     19\u001b[0m             max_wcc \u001b[38;5;241m=\u001b[39m size_wccs\n\u001b[1;32m---> 20\u001b[0m     dict_result \u001b[38;5;241m=\u001b[39m {\u001b[38;5;124m\"\u001b[39m\u001b[38;5;124mEdges\u001b[39m\u001b[38;5;124m\"\u001b[39m: \u001b[43mbest_edges\u001b[49m, \u001b[38;5;124m\"\u001b[39m\u001b[38;5;124mWcc size\u001b[39m\u001b[38;5;124m\"\u001b[39m: max_wcc}\n\u001b[0;32m     21\u001b[0m exhaustive_wccs\u001b[38;5;241m.\u001b[39mappend(dict_result)\n\u001b[0;32m     22\u001b[0m all_wccs_exhaustive[ii] \u001b[38;5;241m=\u001b[39m exhaustive_wccs\u001b[38;5;241m.\u001b[39mT\n",
      "\u001b[1;31mNameError\u001b[0m: name 'best_edges' is not defined"
     ]
    }
   ],
   "source": [
    "dfs_wcc = []\n",
    "percents = np.arange(0.01, 0.11, 0.01)\n",
    "all_wccs_exhaustive = pd.DataFrame(index = percents)\n",
    "total_wccs = []\n",
    "exhaustive_wccs = []\n",
    "max_wcc = 1\n",
    "ii=0\n",
    "for graph in [H]:\n",
    "    for j in tqdm(percents, position=1):\n",
    "        for i in tqdm(it.combinations(list(graph.edges), int(graph.number_of_edges()*j)), position = 0):\n",
    "            H = nx.DiGraph.copy(graph)\n",
    "            H.remove_edges_from(i)\n",
    "            wccs = []\n",
    "            for i in nx.weakly_connected_components(H):\n",
    "                wccs.append(len(i))\n",
    "            size_wccs = (max(wccs)/graph.number_of_nodes())\n",
    "            if max_wcc > size_wccs:\n",
    "                best_edges = i\n",
    "                max_wcc = size_wccs\n",
    "        dict_result = {\"Edges\": best_edges, \"Wcc size\": max_wcc}\n",
    "    exhaustive_wccs.append(dict_result)\n",
    "    all_wccs_exhaustive[ii] = exhaustive_wccs.T\n",
    "    ii+=1\n",
    "    "
   ]
  },
  {
   "cell_type": "code",
   "execution_count": null,
   "metadata": {},
   "outputs": [
    {
     "name": "stdout",
     "output_type": "stream",
     "text": [
      "0\n",
      "1\n",
      "2\n",
      "3\n",
      "4\n",
      "5\n",
      "6\n",
      "7\n",
      "8\n",
      "9\n"
     ]
    }
   ],
   "source": [
    "dfs_wcc = []\n",
    "i = 0\n",
    "for _G in graphs:\n",
    "    print(i)\n",
    "    total_wccs = []\n",
    "    dfs_wcc.append(pd.DataFrame(total_wccs, columns=[\"WCCs\", \"# edges removed\", \"edges\"]))\n",
    "    i+=1"
   ]
  },
  {
   "cell_type": "code",
   "execution_count": 103,
   "metadata": {},
   "outputs": [
    {
     "name": "stdout",
     "output_type": "stream",
     "text": [
      "0.948\n",
      "0.95\n",
      "0.936\n",
      "0.938\n",
      "0.95\n",
      "0.936\n",
      "0.932\n",
      "0.932\n",
      "0.912\n",
      "0.926\n"
     ]
    }
   ],
   "source": [
    "for i in dfs_wcc:\n",
    "    print(i[\"WCCs\"].min())"
   ]
  },
  {
   "cell_type": "code",
   "execution_count": null,
   "metadata": {},
   "outputs": [
    {
     "data": {
      "text/html": [
       "<div>\n",
       "<style scoped>\n",
       "    .dataframe tbody tr th:only-of-type {\n",
       "        vertical-align: middle;\n",
       "    }\n",
       "\n",
       "    .dataframe tbody tr th {\n",
       "        vertical-align: top;\n",
       "    }\n",
       "\n",
       "    .dataframe thead th {\n",
       "        text-align: right;\n",
       "    }\n",
       "</style>\n",
       "<table border=\"1\" class=\"dataframe\">\n",
       "  <thead>\n",
       "    <tr style=\"text-align: right;\">\n",
       "      <th></th>\n",
       "      <th>WCCs</th>\n",
       "      <th># edges removed</th>\n",
       "      <th>edges</th>\n",
       "    </tr>\n",
       "  </thead>\n",
       "  <tbody>\n",
       "    <tr>\n",
       "      <th>0</th>\n",
       "      <td>1.000</td>\n",
       "      <td>0</td>\n",
       "      <td>1332</td>\n",
       "    </tr>\n",
       "    <tr>\n",
       "      <th>1</th>\n",
       "      <td>1.000</td>\n",
       "      <td>0</td>\n",
       "      <td>1332</td>\n",
       "    </tr>\n",
       "    <tr>\n",
       "      <th>2</th>\n",
       "      <td>1.000</td>\n",
       "      <td>0</td>\n",
       "      <td>1332</td>\n",
       "    </tr>\n",
       "    <tr>\n",
       "      <th>3</th>\n",
       "      <td>1.000</td>\n",
       "      <td>0</td>\n",
       "      <td>1332</td>\n",
       "    </tr>\n",
       "    <tr>\n",
       "      <th>4</th>\n",
       "      <td>1.000</td>\n",
       "      <td>0</td>\n",
       "      <td>1332</td>\n",
       "    </tr>\n",
       "    <tr>\n",
       "      <th>...</th>\n",
       "      <td>...</td>\n",
       "      <td>...</td>\n",
       "      <td>...</td>\n",
       "    </tr>\n",
       "    <tr>\n",
       "      <th>452995</th>\n",
       "      <td>0.956</td>\n",
       "      <td>399</td>\n",
       "      <td>933</td>\n",
       "    </tr>\n",
       "    <tr>\n",
       "      <th>452996</th>\n",
       "      <td>0.956</td>\n",
       "      <td>399</td>\n",
       "      <td>933</td>\n",
       "    </tr>\n",
       "    <tr>\n",
       "      <th>452997</th>\n",
       "      <td>0.956</td>\n",
       "      <td>399</td>\n",
       "      <td>933</td>\n",
       "    </tr>\n",
       "    <tr>\n",
       "      <th>452998</th>\n",
       "      <td>0.956</td>\n",
       "      <td>399</td>\n",
       "      <td>933</td>\n",
       "    </tr>\n",
       "    <tr>\n",
       "      <th>452999</th>\n",
       "      <td>0.956</td>\n",
       "      <td>399</td>\n",
       "      <td>933</td>\n",
       "    </tr>\n",
       "  </tbody>\n",
       "</table>\n",
       "<p>453000 rows × 3 columns</p>\n",
       "</div>"
      ],
      "text/plain": [
       "         WCCs  # edges removed  edges\n",
       "0       1.000                0   1332\n",
       "1       1.000                0   1332\n",
       "2       1.000                0   1332\n",
       "3       1.000                0   1332\n",
       "4       1.000                0   1332\n",
       "...       ...              ...    ...\n",
       "452995  0.956              399    933\n",
       "452996  0.956              399    933\n",
       "452997  0.956              399    933\n",
       "452998  0.956              399    933\n",
       "452999  0.956              399    933\n",
       "\n",
       "[453000 rows x 3 columns]"
      ]
     },
     "execution_count": 113,
     "metadata": {},
     "output_type": "execute_result"
    }
   ],
   "source": [
    "dfs_wcc[0]"
   ]
  },
  {
   "cell_type": "code",
   "execution_count": 104,
   "metadata": {},
   "outputs": [],
   "source": [
    "%%capture\n",
    "dfs = []\n",
    "for _G in graphs:\n",
    "    dfs.append(calculations(_G))"
   ]
  },
  {
   "cell_type": "code",
   "execution_count": 105,
   "metadata": {},
   "outputs": [],
   "source": [
    "random.seed(10)\n",
    "percents = np.arange(0.01, 0.31, 0.01)\n",
    "all_wccs_cities = pd.DataFrame(index = percents)\n",
    "ii=0\n",
    "for graph in graphs:\n",
    "    randoms_wcc = pd.DataFrame(index = percents)\n",
    "    for k in range(10):\n",
    "        total_wccs = []\n",
    "        for j in percents:\n",
    "            remove = int(j*graph.number_of_edges())\n",
    "            randoms_sample = random.sample(list(graph.edges), k = remove)\n",
    "            H = nx.DiGraph.copy(graph)\n",
    "            H.remove_edges_from(randoms_sample)\n",
    "            wccs = []\n",
    "            for i in nx.weakly_connected_components(H):\n",
    "                wccs.append(len(i))\n",
    "            total_wccs.append(max(wccs)/graph.number_of_nodes())\n",
    "        randoms_wcc[str(k)] = total_wccs\n",
    "    all_wccs_cities[ii] = randoms_wcc.T.mean()\n",
    "    ii+=1"
   ]
  },
  {
   "cell_type": "code",
   "execution_count": 106,
   "metadata": {},
   "outputs": [],
   "source": [
    "all_wccs_high = pd.DataFrame(index = percents)\n",
    "ii = 0\n",
    "for graph in graphs:\n",
    "    total_wccs = []\n",
    "    for j in percents:\n",
    "        remove = int(j*graph.number_of_edges())\n",
    "        topcor = dfs[ii][0].sort_values(by = \"Cost\", ascending = False).head(remove).index\n",
    "        H = nx.DiGraph.copy(graph)\n",
    "        H.remove_edges_from(topcor)\n",
    "        wccs = []\n",
    "        for i in nx.weakly_connected_components(H):\n",
    "            wccs.append(len(i))\n",
    "        total_wccs.append(max(wccs)/graph.number_of_nodes())\n",
    "    all_wccs_high[ii] = total_wccs\n",
    "    ii+=1"
   ]
  },
  {
   "cell_type": "code",
   "execution_count": 107,
   "metadata": {},
   "outputs": [],
   "source": [
    "all_wccs_bet = pd.DataFrame(index = percents)\n",
    "ii = 0\n",
    "for graph in graphs:\n",
    "    total_wccs = []\n",
    "    for j in percents:\n",
    "        remove = int(j*graph.number_of_edges())\n",
    "        topcor = dfs[ii][0].sort_values(by = \"Betweenness\", ascending = False).head(remove).index\n",
    "        H = nx.DiGraph.copy(graph)\n",
    "        H.remove_edges_from(topcor)\n",
    "        wccs = []\n",
    "        for i in nx.weakly_connected_components(H):\n",
    "            wccs.append(len(i))\n",
    "        total_wccs.append(max(wccs)/graph.number_of_nodes())\n",
    "    all_wccs_bet[ii] = total_wccs\n",
    "    ii+=1"
   ]
  },
  {
   "cell_type": "code",
   "execution_count": 108,
   "metadata": {},
   "outputs": [],
   "source": [
    "all_wccs_SP = pd.DataFrame(index = percents)\n",
    "ii = 0\n",
    "for graph in graphs:\n",
    "    total_wccs = []\n",
    "    for j in percents:\n",
    "        remove = int(j*graph.number_of_edges())\n",
    "        topcor = dfs[ii][0].sort_values(by = \"SP_inverse\", ascending = False).head(remove).index\n",
    "        H = nx.DiGraph.copy(graph)\n",
    "        H.remove_edges_from(topcor)\n",
    "        wccs = []\n",
    "        for i in nx.weakly_connected_components(H):\n",
    "            wccs.append(len(i))\n",
    "        total_wccs.append(max(wccs)/graph.number_of_nodes())\n",
    "    all_wccs_SP[ii] = total_wccs\n",
    "    ii+=1"
   ]
  },
  {
   "cell_type": "code",
   "execution_count": null,
   "metadata": {},
   "outputs": [
    {
     "data": {
      "application/vnd.plotly.v1+json": {
       "config": {
        "plotlyServerURL": "https://plot.ly"
       },
       "data": [
        {
         "name": "COR",
         "type": "box",
         "x": {
          "bdata": "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",
          "dtype": "f8"
         },
         "y": {
          "bdata": "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",
          "dtype": "f8"
         }
        },
        {
         "name": "Betwenness",
         "type": "box",
         "x": {
          "bdata": "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",
          "dtype": "f8"
         },
         "y": {
          "bdata": "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",
          "dtype": "f8"
         }
        },
        {
         "name": "Random",
         "type": "box",
         "x": {
          "bdata": "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",
          "dtype": "f8"
         },
         "y": {
          "bdata": "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",
          "dtype": "f8"
         }
        },
        {
         "name": "Inverse SP",
         "type": "box",
         "x": {
          "bdata": "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",
          "dtype": "f8"
         },
         "y": {
          "bdata": "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",
          "dtype": "f8"
         }
        }
       ],
       "layout": {
        "boxmode": "group",
        "font": {
         "color": "Black",
         "family": "Computer Modern Roman",
         "size": 18
        },
        "height": 540,
        "legend": {
         "title": {
          "text": "Induced by"
         }
        },
        "margin": {
         "b": 20,
         "l": 20,
         "r": 20,
         "t": 50
        },
        "template": {
         "data": {
          "bar": [
           {
            "error_x": {
             "color": "#2a3f5f"
            },
            "error_y": {
             "color": "#2a3f5f"
            },
            "marker": {
             "line": {
              "color": "#E5ECF6",
              "width": 0.5
             },
             "pattern": {
              "fillmode": "overlay",
              "size": 10,
              "solidity": 0.2
             }
            },
            "type": "bar"
           }
          ],
          "barpolar": [
           {
            "marker": {
             "line": {
              "color": "#E5ECF6",
              "width": 0.5
             },
             "pattern": {
              "fillmode": "overlay",
              "size": 10,
              "solidity": 0.2
             }
            },
            "type": "barpolar"
           }
          ],
          "carpet": [
           {
            "aaxis": {
             "endlinecolor": "#2a3f5f",
             "gridcolor": "white",
             "linecolor": "white",
             "minorgridcolor": "white",
             "startlinecolor": "#2a3f5f"
            },
            "baxis": {
             "endlinecolor": "#2a3f5f",
             "gridcolor": "white",
             "linecolor": "white",
             "minorgridcolor": "white",
             "startlinecolor": "#2a3f5f"
            },
            "type": "carpet"
           }
          ],
          "choropleth": [
           {
            "colorbar": {
             "outlinewidth": 0,
             "ticks": ""
            },
            "type": "choropleth"
           }
          ],
          "contour": [
           {
            "colorbar": {
             "outlinewidth": 0,
             "ticks": ""
            },
            "colorscale": [
             [
              0,
              "#0d0887"
             ],
             [
              0.1111111111111111,
              "#46039f"
             ],
             [
              0.2222222222222222,
              "#7201a8"
             ],
             [
              0.3333333333333333,
              "#9c179e"
             ],
             [
              0.4444444444444444,
              "#bd3786"
             ],
             [
              0.5555555555555556,
              "#d8576b"
             ],
             [
              0.6666666666666666,
              "#ed7953"
             ],
             [
              0.7777777777777778,
              "#fb9f3a"
             ],
             [
              0.8888888888888888,
              "#fdca26"
             ],
             [
              1,
              "#f0f921"
             ]
            ],
            "type": "contour"
           }
          ],
          "contourcarpet": [
           {
            "colorbar": {
             "outlinewidth": 0,
             "ticks": ""
            },
            "type": "contourcarpet"
           }
          ],
          "heatmap": [
           {
            "colorbar": {
             "outlinewidth": 0,
             "ticks": ""
            },
            "colorscale": [
             [
              0,
              "#0d0887"
             ],
             [
              0.1111111111111111,
              "#46039f"
             ],
             [
              0.2222222222222222,
              "#7201a8"
             ],
             [
              0.3333333333333333,
              "#9c179e"
             ],
             [
              0.4444444444444444,
              "#bd3786"
             ],
             [
              0.5555555555555556,
              "#d8576b"
             ],
             [
              0.6666666666666666,
              "#ed7953"
             ],
             [
              0.7777777777777778,
              "#fb9f3a"
             ],
             [
              0.8888888888888888,
              "#fdca26"
             ],
             [
              1,
              "#f0f921"
             ]
            ],
            "type": "heatmap"
           }
          ],
          "histogram": [
           {
            "marker": {
             "pattern": {
              "fillmode": "overlay",
              "size": 10,
              "solidity": 0.2
             }
            },
            "type": "histogram"
           }
          ],
          "histogram2d": [
           {
            "colorbar": {
             "outlinewidth": 0,
             "ticks": ""
            },
            "colorscale": [
             [
              0,
              "#0d0887"
             ],
             [
              0.1111111111111111,
              "#46039f"
             ],
             [
              0.2222222222222222,
              "#7201a8"
             ],
             [
              0.3333333333333333,
              "#9c179e"
             ],
             [
              0.4444444444444444,
              "#bd3786"
             ],
             [
              0.5555555555555556,
              "#d8576b"
             ],
             [
              0.6666666666666666,
              "#ed7953"
             ],
             [
              0.7777777777777778,
              "#fb9f3a"
             ],
             [
              0.8888888888888888,
              "#fdca26"
             ],
             [
              1,
              "#f0f921"
             ]
            ],
            "type": "histogram2d"
           }
          ],
          "histogram2dcontour": [
           {
            "colorbar": {
             "outlinewidth": 0,
             "ticks": ""
            },
            "colorscale": [
             [
              0,
              "#0d0887"
             ],
             [
              0.1111111111111111,
              "#46039f"
             ],
             [
              0.2222222222222222,
              "#7201a8"
             ],
             [
              0.3333333333333333,
              "#9c179e"
             ],
             [
              0.4444444444444444,
              "#bd3786"
             ],
             [
              0.5555555555555556,
              "#d8576b"
             ],
             [
              0.6666666666666666,
              "#ed7953"
             ],
             [
              0.7777777777777778,
              "#fb9f3a"
             ],
             [
              0.8888888888888888,
              "#fdca26"
             ],
             [
              1,
              "#f0f921"
             ]
            ],
            "type": "histogram2dcontour"
           }
          ],
          "mesh3d": [
           {
            "colorbar": {
             "outlinewidth": 0,
             "ticks": ""
            },
            "type": "mesh3d"
           }
          ],
          "parcoords": [
           {
            "line": {
             "colorbar": {
              "outlinewidth": 0,
              "ticks": ""
             }
            },
            "type": "parcoords"
           }
          ],
          "pie": [
           {
            "automargin": true,
            "type": "pie"
           }
          ],
          "scatter": [
           {
            "fillpattern": {
             "fillmode": "overlay",
             "size": 10,
             "solidity": 0.2
            },
            "type": "scatter"
           }
          ],
          "scatter3d": [
           {
            "line": {
             "colorbar": {
              "outlinewidth": 0,
              "ticks": ""
             }
            },
            "marker": {
             "colorbar": {
              "outlinewidth": 0,
              "ticks": ""
             }
            },
            "type": "scatter3d"
           }
          ],
          "scattercarpet": [
           {
            "marker": {
             "colorbar": {
              "outlinewidth": 0,
              "ticks": ""
             }
            },
            "type": "scattercarpet"
           }
          ],
          "scattergeo": [
           {
            "marker": {
             "colorbar": {
              "outlinewidth": 0,
              "ticks": ""
             }
            },
            "type": "scattergeo"
           }
          ],
          "scattergl": [
           {
            "marker": {
             "colorbar": {
              "outlinewidth": 0,
              "ticks": ""
             }
            },
            "type": "scattergl"
           }
          ],
          "scattermap": [
           {
            "marker": {
             "colorbar": {
              "outlinewidth": 0,
              "ticks": ""
             }
            },
            "type": "scattermap"
           }
          ],
          "scattermapbox": [
           {
            "marker": {
             "colorbar": {
              "outlinewidth": 0,
              "ticks": ""
             }
            },
            "type": "scattermapbox"
           }
          ],
          "scatterpolar": [
           {
            "marker": {
             "colorbar": {
              "outlinewidth": 0,
              "ticks": ""
             }
            },
            "type": "scatterpolar"
           }
          ],
          "scatterpolargl": [
           {
            "marker": {
             "colorbar": {
              "outlinewidth": 0,
              "ticks": ""
             }
            },
            "type": "scatterpolargl"
           }
          ],
          "scatterternary": [
           {
            "marker": {
             "colorbar": {
              "outlinewidth": 0,
              "ticks": ""
             }
            },
            "type": "scatterternary"
           }
          ],
          "surface": [
           {
            "colorbar": {
             "outlinewidth": 0,
             "ticks": ""
            },
            "colorscale": [
             [
              0,
              "#0d0887"
             ],
             [
              0.1111111111111111,
              "#46039f"
             ],
             [
              0.2222222222222222,
              "#7201a8"
             ],
             [
              0.3333333333333333,
              "#9c179e"
             ],
             [
              0.4444444444444444,
              "#bd3786"
             ],
             [
              0.5555555555555556,
              "#d8576b"
             ],
             [
              0.6666666666666666,
              "#ed7953"
             ],
             [
              0.7777777777777778,
              "#fb9f3a"
             ],
             [
              0.8888888888888888,
              "#fdca26"
             ],
             [
              1,
              "#f0f921"
             ]
            ],
            "type": "surface"
           }
          ],
          "table": [
           {
            "cells": {
             "fill": {
              "color": "#EBF0F8"
             },
             "line": {
              "color": "white"
             }
            },
            "header": {
             "fill": {
              "color": "#C8D4E3"
             },
             "line": {
              "color": "white"
             }
            },
            "type": "table"
           }
          ]
         },
         "layout": {
          "annotationdefaults": {
           "arrowcolor": "#2a3f5f",
           "arrowhead": 0,
           "arrowwidth": 1
          },
          "autotypenumbers": "strict",
          "coloraxis": {
           "colorbar": {
            "outlinewidth": 0,
            "ticks": ""
           }
          },
          "colorscale": {
           "diverging": [
            [
             0,
             "#8e0152"
            ],
            [
             0.1,
             "#c51b7d"
            ],
            [
             0.2,
             "#de77ae"
            ],
            [
             0.3,
             "#f1b6da"
            ],
            [
             0.4,
             "#fde0ef"
            ],
            [
             0.5,
             "#f7f7f7"
            ],
            [
             0.6,
             "#e6f5d0"
            ],
            [
             0.7,
             "#b8e186"
            ],
            [
             0.8,
             "#7fbc41"
            ],
            [
             0.9,
             "#4d9221"
            ],
            [
             1,
             "#276419"
            ]
           ],
           "sequential": [
            [
             0,
             "#0d0887"
            ],
            [
             0.1111111111111111,
             "#46039f"
            ],
            [
             0.2222222222222222,
             "#7201a8"
            ],
            [
             0.3333333333333333,
             "#9c179e"
            ],
            [
             0.4444444444444444,
             "#bd3786"
            ],
            [
             0.5555555555555556,
             "#d8576b"
            ],
            [
             0.6666666666666666,
             "#ed7953"
            ],
            [
             0.7777777777777778,
             "#fb9f3a"
            ],
            [
             0.8888888888888888,
             "#fdca26"
            ],
            [
             1,
             "#f0f921"
            ]
           ],
           "sequentialminus": [
            [
             0,
             "#0d0887"
            ],
            [
             0.1111111111111111,
             "#46039f"
            ],
            [
             0.2222222222222222,
             "#7201a8"
            ],
            [
             0.3333333333333333,
             "#9c179e"
            ],
            [
             0.4444444444444444,
             "#bd3786"
            ],
            [
             0.5555555555555556,
             "#d8576b"
            ],
            [
             0.6666666666666666,
             "#ed7953"
            ],
            [
             0.7777777777777778,
             "#fb9f3a"
            ],
            [
             0.8888888888888888,
             "#fdca26"
            ],
            [
             1,
             "#f0f921"
            ]
           ]
          },
          "colorway": [
           "#636efa",
           "#EF553B",
           "#00cc96",
           "#ab63fa",
           "#FFA15A",
           "#19d3f3",
           "#FF6692",
           "#B6E880",
           "#FF97FF",
           "#FECB52"
          ],
          "font": {
           "color": "#2a3f5f"
          },
          "geo": {
           "bgcolor": "white",
           "lakecolor": "white",
           "landcolor": "#E5ECF6",
           "showlakes": true,
           "showland": true,
           "subunitcolor": "white"
          },
          "hoverlabel": {
           "align": "left"
          },
          "hovermode": "closest",
          "mapbox": {
           "style": "light"
          },
          "paper_bgcolor": "white",
          "plot_bgcolor": "#E5ECF6",
          "polar": {
           "angularaxis": {
            "gridcolor": "white",
            "linecolor": "white",
            "ticks": ""
           },
           "bgcolor": "#E5ECF6",
           "radialaxis": {
            "gridcolor": "white",
            "linecolor": "white",
            "ticks": ""
           }
          },
          "scene": {
           "xaxis": {
            "backgroundcolor": "#E5ECF6",
            "gridcolor": "white",
            "gridwidth": 2,
            "linecolor": "white",
            "showbackground": true,
            "ticks": "",
            "zerolinecolor": "white"
           },
           "yaxis": {
            "backgroundcolor": "#E5ECF6",
            "gridcolor": "white",
            "gridwidth": 2,
            "linecolor": "white",
            "showbackground": true,
            "ticks": "",
            "zerolinecolor": "white"
           },
           "zaxis": {
            "backgroundcolor": "#E5ECF6",
            "gridcolor": "white",
            "gridwidth": 2,
            "linecolor": "white",
            "showbackground": true,
            "ticks": "",
            "zerolinecolor": "white"
           }
          },
          "shapedefaults": {
           "line": {
            "color": "#2a3f5f"
           }
          },
          "ternary": {
           "aaxis": {
            "gridcolor": "white",
            "linecolor": "white",
            "ticks": ""
           },
           "baxis": {
            "gridcolor": "white",
            "linecolor": "white",
            "ticks": ""
           },
           "bgcolor": "#E5ECF6",
           "caxis": {
            "gridcolor": "white",
            "linecolor": "white",
            "ticks": ""
           }
          },
          "title": {
           "x": 0.05
          },
          "xaxis": {
           "automargin": true,
           "gridcolor": "white",
           "linecolor": "white",
           "ticks": "",
           "title": {
            "standoff": 15
           },
           "zerolinecolor": "white",
           "zerolinewidth": 2
          },
          "yaxis": {
           "automargin": true,
           "gridcolor": "white",
           "linecolor": "white",
           "ticks": "",
           "title": {
            "standoff": 15
           },
           "zerolinecolor": "white",
           "zerolinewidth": 2
          }
         }
        },
        "title": {
         "text": "Erdos-Renyi network"
        },
        "width": 980,
        "xaxis": {
         "tickmode": "array",
         "tickvals": {
          "bdata": "AAAAAAAA8D8AAAAAAAAAQAAAAAAAAAhAAAAAAAAAEEAAAAAAAAAUQAEAAAAAABhA////////G0AAAAAAAAAgQAAAAAAAACJAAAAAAAAAJEAAAAAAAAAmQAAAAAAAAChAAAAAAAAAKkABAAAAAAAsQAEAAAAAAC5AAAAAAAAAMEAAAAAAAAAxQAEAAAAAADJAAAAAAAAAM0AAAAAAAAA0QAEAAAAAADVAAAAAAAAANkAAAAAAAAA3QAEAAAAAADhAAAAAAAAAOUAAAAAAAAA6QAAAAAAAADtAAQAAAAAAPEABAAAAAAA9QAAAAAAAAD5A",
          "dtype": "f8"
         },
         "title": {
          "text": "Percent of edges removed"
         }
        },
        "yaxis": {
         "title": {
          "text": "Normalized WCC size"
         }
        }
       }
      }
     },
     "metadata": {},
     "output_type": "display_data"
    }
   ],
   "source": [
    "dfs2 = pd.DataFrame()\n",
    "types = [\"COR\", \"Betwenness\", \"Random\", \"Inverse SP\"]\n",
    "_elist = []\n",
    "_type = []\n",
    "_percent = []\n",
    "kk = 0\n",
    "for i in percents:\n",
    "    # _elist = []\n",
    "    for dframes in [all_wccs_high.T, all_wccs_bet.T, all_wccs_cities.T, all_wccs_SP.T]:\n",
    "        _elist = _elist + list(dframes[i])\n",
    "        _percent += [i]*len(dframes)\n",
    "        _type += [types[kk%4]]*len(dframes)\n",
    "        kk+=1\n",
    "dfs2['Value'] = _elist\n",
    "dfs2[\"Percent\"] = _percent\n",
    "dfs2[\"Type\"] = _type\n",
    "\n",
    "\n",
    "fig = go.Figure()\n",
    "for tipo in types:\n",
    "    fig.add_trace(go.Box(x=dfs2['Percent'][dfs2['Type'] == tipo]*100,\n",
    "                            y=dfs2['Value'][dfs2['Type'] == tipo],\n",
    "                            name=tipo,\n",
    "                            # box_visible=True,\n",
    "                            # meanline_visible=True, spanmode='hard'\n",
    "                            ))\n",
    "\n",
    "fig.update_layout(\n",
    "    # title=\"Plot Title\",\n",
    "    xaxis_title=\"Percent of edges removed\",\n",
    "    yaxis_title=\"Normalized WCC size\",\n",
    "    legend_title=\"Induced by\",\n",
    "    title = \"Erdos-Renyi network\",\n",
    "    font=dict(\n",
    "        family=\"Computer Modern Roman\",\n",
    "        size=18,\n",
    "        color=\"Black\"\n",
    "    ),\n",
    "    xaxis = dict(\n",
    "        tickmode = 'array',\n",
    "        tickvals = percents*100,\n",
    "    ),\n",
    "    # violinmode='group',\n",
    "    boxmode = 'group',\n",
    "    # violingap=0.001,\n",
    "    width = 1960/2,\n",
    "    height = 1080/2,\n",
    "    margin=dict(l=20, r=20, t=50, b=20),\n",
    ")\n",
    "\n",
    "fig.show()\n",
    "# fig.write_image(\"Results/WCCs.pdf\")"
   ]
  },
  {
   "cell_type": "markdown",
   "metadata": {},
   "source": [
    "# BA network"
   ]
  },
  {
   "cell_type": "code",
   "execution_count": 7,
   "metadata": {},
   "outputs": [
    {
     "data": {
      "image/png": "[encoded data removed]",
      "text/plain": [
       "<Figure size 640x480 with 1 Axes>"
      ]
     },
     "metadata": {},
     "output_type": "display_data"
    }
   ],
   "source": [
    "G = nx.DiGraph(nx.scale_free_graph(500, alpha=0.41, beta=0.54, gamma=0.05, delta_in=0.2, delta_out=0, seed=None))"
   ]
  },
  {
   "cell_type": "code",
   "execution_count": 18,
   "metadata": {},
   "outputs": [
    {
     "data": {
      "text/plain": [
       "dict_values([22, 199, 142, 42, 1, 0, 51, 2, 0, 1, 6, 1, 23, 2, 0, 5, 11, 13, 17, 0, 0, 3, 0, 0, 2, 0, 0, 0, 2, 0, 11, 0, 4, 6, 0, 11, 0, 0, 0, 9, 0, 0, 1, 8, 2, 2, 1, 0, 0, 8, 0, 1, 3, 3, 0, 0, 2, 0, 0, 0, 1, 0, 0, 4, 1, 0, 9, 1, 12, 0, 0, 0, 2, 2, 0, 0, 4, 0, 1, 0, 0, 8, 0, 0, 0, 1, 0, 8, 0, 0, 0, 3, 0, 1, 0, 0, 0, 0, 0, 1, 1, 2, 0, 0, 0, 0, 0, 0, 0, 0, 1, 0, 0, 2, 0, 0, 0, 0, 0, 0, 0, 0, 0, 3, 0, 0, 0, 0, 0, 0, 0, 0, 0, 0, 5, 4, 0, 1, 0, 0, 1, 0, 0, 0, 0, 1, 3, 0, 6, 0, 0, 0, 0, 0, 0, 0, 0, 0, 0, 1, 2, 0, 0, 0, 1, 0, 0, 1, 0, 0, 3, 0, 0, 1, 4, 1, 0, 4, 0, 1, 2, 0, 1, 1, 1, 1, 0, 0, 1, 2, 0, 2, 0, 0, 4, 0, 0, 1, 0, 0, 0, 0, 0, 1, 0, 1, 3, 0, 0, 0, 0, 0, 8, 0, 0, 0, 0, 0, 0, 0, 0, 0, 0, 0, 0, 0, 1, 1, 0, 0, 0, 0, 1, 0, 0, 0, 0, 0, 0, 0, 0, 0, 0, 0, 0, 0, 0, 0, 0, 1, 1, 4, 0, 0, 0, 4, 0, 1, 1, 1, 0, 0, 0, 2, 0, 0, 0, 0, 0, 0, 0, 0, 0, 3, 1, 0, 1, 0, 0, 0, 0, 2, 5, 0, 0, 1, 0, 4, 0, 0, 0, 0, 0, 0, 0, 0, 1, 0, 1, 1, 0, 0, 0, 1, 0, 2, 1, 0, 0, 0, 0, 0, 0, 0, 0, 0, 0, 0, 0, 0, 0, 0, 0, 1, 0, 2, 1, 0, 0, 0, 0, 0, 0, 0, 2, 0, 0, 0, 0, 0, 0, 0, 0, 0, 1, 0, 0, 1, 0, 0, 0, 0, 0, 0, 0, 0, 2, 0, 0, 0, 0, 0, 0, 0, 0, 0, 0, 0, 1, 0, 0, 2, 0, 0, 0, 0, 0, 0, 1, 0, 0, 0, 0, 0, 1, 0, 0, 0, 0, 0, 0, 0, 0, 0, 0, 0, 0, 0, 0, 1, 0, 0, 0, 0, 0, 0, 0, 1, 0, 0, 0, 0, 0, 0, 0, 0, 1, 0, 0, 0, 0, 0, 0, 0, 0, 0, 0, 1, 0, 0, 0, 0, 0, 0, 0, 0, 0, 0, 0, 0, 0, 0, 1, 0, 0, 0, 0, 0, 0, 0, 0, 0, 0, 0, 0, 0, 1, 1, 0, 1, 0, 0, 0, 0, 0, 0, 0, 0, 0, 0, 0, 1, 1, 0, 0, 0, 0, 0, 0, 1, 0, 0, 0, 0, 0, 0, 0, 0, 0, 0, 0, 0, 0, 0, 0, 0, 0, 0, 0, 0])"
      ]
     },
     "execution_count": 18,
     "metadata": {},
     "output_type": "execute_result"
    }
   ],
   "source": [
    "dict(G.in_degree()).values()"
   ]
  },
  {
   "cell_type": "code",
   "execution_count": 22,
   "metadata": {},
   "outputs": [
    {
     "data": {
      "text/plain": [
       "(array([350., 108.,  22.,   3.,   9.,   5.,   2.,   0.,   0.,   0.,   0.,\n",
       "          0.,   0.,   0.,   0.,   0.,   0.,   0.,   0.,   1.]),\n",
       " array([ 0.  ,  1.75,  3.5 ,  5.25,  7.  ,  8.75, 10.5 , 12.25, 14.  ,\n",
       "        15.75, 17.5 , 19.25, 21.  , 22.75, 24.5 , 26.25, 28.  , 29.75,\n",
       "        31.5 , 33.25, 35.  ]),\n",
       " <BarContainer object of 20 artists>)"
      ]
     },
     "execution_count": 22,
     "metadata": {},
     "output_type": "execute_result"
    },
    {
     "data": {
      "image/png": "[encoded data removed]",
      "text/plain": [
       "<Figure size 640x480 with 1 Axes>"
      ]
     },
     "metadata": {},
     "output_type": "display_data"
    }
   ],
   "source": [
    "plt.hist(dict(G.out_degree()).values(), bins = 20)"
   ]
  }
 ],
 "metadata": {
  "kernelspec": {
   "display_name": "Python 3",
   "language": "python",
   "name": "python3"
  },
  "language_info": {
   "codemirror_mode": {
    "name": "ipython",
    "version": 3
   },
   "file_extension": ".py",
   "mimetype": "text/x-python",
   "name": "python",
   "nbconvert_exporter": "python",
   "pygments_lexer": "ipython3",
   "version": "3.11.9"
  }
 },
 "nbformat": 4,
 "nbformat_minor": 2
}
