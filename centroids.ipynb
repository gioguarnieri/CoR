{
 "cells": [
  {
   "cell_type": "code",
   "execution_count": 1,
   "metadata": {},
   "outputs": [],
   "source": [
    "import networkx as nx\n",
    "from scipy.optimize import curve_fit\n",
    "import scipy\n",
    "import numpy as np\n",
    "import matplotlib.pyplot as plt\n",
    "import pandas as pd\n",
    "import plotly.express as px\n",
    "import osmnx as ox\n",
    "from sklearn.cluster import KMeans\n",
    "from sklearn import metrics\n",
    "from itertools import cycle\n",
    "import matplotlib.cm as cm\n",
    "from shapely import geometry\n",
    "from scipy.spatial import ConvexHull\n",
    "from sklearn.metrics import mean_squared_error\n",
    "import geopandas as gpd\n",
    "from shapely.geometry import Polygon\n",
    "from shapely import geometry, ops\n",
    "from scipy.spatial import Voronoi, voronoi_plot_2d"
   ]
  },
  {
   "cell_type": "code",
   "execution_count": 2,
   "metadata": {},
   "outputs": [],
   "source": [
    "def get_Graph(city):\n",
    "    nodes, edges = pd.read_csv(f\"{city}_nodes.csv\", index_col =[0]), pd.read_csv(f\"./{city}_edges.csv\", index_col = [0,1,2])\n",
    "    edges[\"highway\"] = edges.highway.map(lambda x: x[0] if isinstance(x, list) else x)\n",
    "    others = [\"crossing\", \"living_street\", \"unclassified\", \"disused\", \"busway\", \"escape\", \"road\"]\n",
    "    edges[\"highway\"] = edges.highway.map(lambda x: \"other\" if x  in others else x)\n",
    "    edges[\"Cost of returnal\"] = edges[\"Cost of returnal\"].fillna(0)\n",
    "    s = gpd.GeoSeries.from_wkt(nodes.geometry)\n",
    "    nodes = gpd.GeoDataFrame(data = nodes, geometry = s)\n",
    "    nodes = nodes.set_crs('epsg:4326', allow_override=True)\n",
    "    s = gpd.GeoSeries.from_wkt(edges.geometry)\n",
    "    edges = gpd.GeoDataFrame(data = edges, geometry = s)\n",
    "    edges = edges.set_crs('epsg:4326', allow_override=True)\n",
    "\n",
    "    G = ox.graph_from_gdfs(nodes, edges)\n",
    "    H = nx.MultiDiGraph()\n",
    "    H.add_nodes_from(sorted(G.nodes(data=True)))\n",
    "    H.add_edges_from(G.edges(data=True))\n",
    "    H.graph[\"crs\"] = G.graph[\"crs\"]\n",
    "    return H, nodes, edges"
   ]
  },
  {
   "cell_type": "code",
   "execution_count": 3,
   "metadata": {},
   "outputs": [],
   "source": [
    "city_list_full = [\"São Paulo\", # 0 \n",
    "                  \"Rio de Janeiro\", # 1\n",
    "                   \"Buenos Aires\", # 2\n",
    "                   \"Atlanta\", # 3\n",
    "                   \"London\", # 4\n",
    "                   \"Barcelona\", # 5\n",
    "                   \"Madrid\", # 6\n",
    "                   \"Paris\", # 7\n",
    "                   \"Berlin\", # 8\n",
    "                   \"Amsterdam\",# 9\n",
    "                   \"Beijing\",# 10\n",
    "                   ]"
   ]
  },
  {
   "cell_type": "code",
   "execution_count": 13,
   "metadata": {},
   "outputs": [],
   "source": [
    "for city in city_list_full:\n",
    "    G, nodes, edges = get_Graph(city)\n",
    "    series = {\"COR\": edges[\"Cost of returnal\"],\n",
    "            \"lat\": edges.representative_point().x,\n",
    "            \"lon\": edges.representative_point().y}\n",
    "    df = pd.DataFrame(series).reset_index()\n",
    "    # print(sum(df[\"COR\"] == 0)/len(df))\n",
    "    df = df.drop(columns = [\"u\", \"v\", \"key\"])\n",
    "    df.replace(0, 100, inplace=True)\n",
    "    df.to_csv(f\"centroids/{city}_CORpoints.csv\", index_label = \"edge\")"
   ]
  }
 ],
 "metadata": {
  "kernelspec": {
   "display_name": "Python 3",
   "language": "python",
   "name": "python3"
  },
  "language_info": {
   "codemirror_mode": {
    "name": "ipython",
    "version": 3
   },
   "file_extension": ".py",
   "mimetype": "text/x-python",
   "name": "python",
   "nbconvert_exporter": "python",
   "pygments_lexer": "ipython3",
   "version": "3.11.9"
  }
 },
 "nbformat": 4,
 "nbformat_minor": 2
}
